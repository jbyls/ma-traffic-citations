{
 "cells": [
  {
   "cell_type": "code",
   "execution_count": 2,
   "metadata": {},
   "outputs": [],
   "source": [
    "import pandas as pd\n",
    "import geopandas as gpd\n",
    "import folium\n",
    "import json"
   ]
  },
  {
   "cell_type": "code",
   "execution_count": 3,
   "metadata": {},
   "outputs": [
    {
     "data": {
      "text/plain": [
       "<Geographic 2D CRS: EPSG:4326>\n",
       "Name: WGS 84\n",
       "Axis Info [ellipsoidal]:\n",
       "- Lat[north]: Geodetic latitude (degree)\n",
       "- Lon[east]: Geodetic longitude (degree)\n",
       "Area of Use:\n",
       "- name: World.\n",
       "- bounds: (-180.0, -90.0, 180.0, 90.0)\n",
       "Datum: World Geodetic System 1984 ensemble\n",
       "- Ellipsoid: WGS 84\n",
       "- Prime Meridian: Greenwich"
      ]
     },
     "execution_count": 3,
     "metadata": {},
     "output_type": "execute_result"
    }
   ],
   "source": [
    "shapes = gpd.read_file('data\\ma-municipalities.geojson')\n",
    "shapes.crs\n"
   ]
  },
  {
   "cell_type": "code",
   "execution_count": 9,
   "metadata": {},
   "outputs": [
    {
     "name": "stderr",
     "output_type": "stream",
     "text": [
      "c:\\Users\\bylsm\\jbyls-git\\ma-traffic-citations\\.env\\Lib\\site-packages\\openpyxl\\worksheet\\header_footer.py:48: UserWarning: Cannot parse header or footer so it will be ignored\n",
      "  warn(\"\"\"Cannot parse header or footer so it will be ignored\"\"\")\n",
      "c:\\Users\\bylsm\\jbyls-git\\ma-traffic-citations\\.env\\Lib\\site-packages\\openpyxl\\worksheet\\header_footer.py:48: UserWarning: Cannot parse header or footer so it will be ignored\n",
      "  warn(\"\"\"Cannot parse header or footer so it will be ignored\"\"\")\n",
      "c:\\Users\\bylsm\\jbyls-git\\ma-traffic-citations\\.env\\Lib\\site-packages\\openpyxl\\worksheet\\header_footer.py:48: UserWarning: Cannot parse header or footer so it will be ignored\n",
      "  warn(\"\"\"Cannot parse header or footer so it will be ignored\"\"\")\n",
      "c:\\Users\\bylsm\\jbyls-git\\ma-traffic-citations\\.env\\Lib\\site-packages\\openpyxl\\worksheet\\header_footer.py:48: UserWarning: Cannot parse header or footer so it will be ignored\n",
      "  warn(\"\"\"Cannot parse header or footer so it will be ignored\"\"\")\n"
     ]
    }
   ],
   "source": [
    "df = pd.read_excel('data\\MA-citations-2020-2023.xlsx',sheet_name=None)"
   ]
  },
  {
   "cell_type": "code",
   "execution_count": 17,
   "metadata": {},
   "outputs": [
    {
     "data": {
      "text/html": [
       "<div>\n",
       "<style scoped>\n",
       "    .dataframe tbody tr th:only-of-type {\n",
       "        vertical-align: middle;\n",
       "    }\n",
       "\n",
       "    .dataframe tbody tr th {\n",
       "        vertical-align: top;\n",
       "    }\n",
       "\n",
       "    .dataframe thead th {\n",
       "        text-align: right;\n",
       "    }\n",
       "</style>\n",
       "<table border=\"1\" class=\"dataframe\">\n",
       "  <thead>\n",
       "    <tr style=\"text-align: right;\">\n",
       "      <th></th>\n",
       "      <th>Citation #</th>\n",
       "      <th>Citation Type</th>\n",
       "      <th>Event Date</th>\n",
       "      <th>Time</th>\n",
       "      <th>Mins</th>\n",
       "      <th>AM/PM</th>\n",
       "      <th>Location Name</th>\n",
       "      <th>Issuing Agency</th>\n",
       "      <th>Race</th>\n",
       "      <th>Sex</th>\n",
       "      <th>Age</th>\n",
       "      <th>Offense</th>\n",
       "      <th>Offense Description</th>\n",
       "      <th>Searched</th>\n",
       "    </tr>\n",
       "  </thead>\n",
       "  <tbody>\n",
       "    <tr>\n",
       "      <th>0</th>\n",
       "      <td>NaN</td>\n",
       "      <td>WARN</td>\n",
       "      <td>2/26/2020 12:00:00 AM</td>\n",
       "      <td>NaN</td>\n",
       "      <td>NaN</td>\n",
       "      <td>NaN</td>\n",
       "      <td>Dorchester</td>\n",
       "      <td>Boston Police District B-3</td>\n",
       "      <td>HISP</td>\n",
       "      <td>MALE</td>\n",
       "      <td>55</td>\n",
       "      <td>89113</td>\n",
       "      <td>CROSSWALK VIOLATION * c89 §11</td>\n",
       "      <td>N</td>\n",
       "    </tr>\n",
       "    <tr>\n",
       "      <th>1</th>\n",
       "      <td>NaN</td>\n",
       "      <td>CRIM</td>\n",
       "      <td>11/7/2020 12:00:00 AM</td>\n",
       "      <td>NaN</td>\n",
       "      <td>NaN</td>\n",
       "      <td>NaN</td>\n",
       "      <td>Randolph</td>\n",
       "      <td>Randolph Police Dept.</td>\n",
       "      <td>UNKNWN</td>\n",
       "      <td>MALE</td>\n",
       "      <td>47</td>\n",
       "      <td>89113</td>\n",
       "      <td>CROSSWALK VIOLATION * c89 §11</td>\n",
       "      <td>N</td>\n",
       "    </tr>\n",
       "    <tr>\n",
       "      <th>2</th>\n",
       "      <td>NaN</td>\n",
       "      <td>CRIM</td>\n",
       "      <td>8/13/2020 12:00:00 AM</td>\n",
       "      <td>NaN</td>\n",
       "      <td>NaN</td>\n",
       "      <td>NaN</td>\n",
       "      <td>Springfield</td>\n",
       "      <td>Springfield Police Dept.</td>\n",
       "      <td>UNKNWN</td>\n",
       "      <td>MALE</td>\n",
       "      <td>37</td>\n",
       "      <td>89113</td>\n",
       "      <td>CROSSWALK VIOLATION * c89 §11</td>\n",
       "      <td>N</td>\n",
       "    </tr>\n",
       "    <tr>\n",
       "      <th>3</th>\n",
       "      <td>NaN</td>\n",
       "      <td>WARN</td>\n",
       "      <td>2/25/2020 12:00:00 AM</td>\n",
       "      <td>9.0</td>\n",
       "      <td>22.0</td>\n",
       "      <td>AM</td>\n",
       "      <td>Dorchester</td>\n",
       "      <td>Boston Police District B-3</td>\n",
       "      <td>WHITE</td>\n",
       "      <td>FEMALE</td>\n",
       "      <td>29</td>\n",
       "      <td>89113</td>\n",
       "      <td>CROSSWALK VIOLATION * c89 §11</td>\n",
       "      <td>N</td>\n",
       "    </tr>\n",
       "    <tr>\n",
       "      <th>4</th>\n",
       "      <td>NaN</td>\n",
       "      <td>WARN</td>\n",
       "      <td>2/25/2020 12:00:00 AM</td>\n",
       "      <td>10.0</td>\n",
       "      <td>40.0</td>\n",
       "      <td>AM</td>\n",
       "      <td>Dorchester</td>\n",
       "      <td>Boston Police District B-3</td>\n",
       "      <td>HISP</td>\n",
       "      <td>MALE</td>\n",
       "      <td>49</td>\n",
       "      <td>89113</td>\n",
       "      <td>CROSSWALK VIOLATION * c89 §11</td>\n",
       "      <td>N</td>\n",
       "    </tr>\n",
       "  </tbody>\n",
       "</table>\n",
       "</div>"
      ],
      "text/plain": [
       "  Citation # Citation Type             Event Date  Time  Mins AM/PM   \n",
       "0        NaN          WARN  2/26/2020 12:00:00 AM   NaN   NaN   NaN  \\\n",
       "1        NaN          CRIM  11/7/2020 12:00:00 AM   NaN   NaN   NaN   \n",
       "2        NaN          CRIM  8/13/2020 12:00:00 AM   NaN   NaN   NaN   \n",
       "3        NaN          WARN  2/25/2020 12:00:00 AM   9.0  22.0    AM   \n",
       "4        NaN          WARN  2/25/2020 12:00:00 AM  10.0  40.0    AM   \n",
       "\n",
       "  Location Name                            Issuing Agency    Race     Sex   \n",
       "0    Dorchester                Boston Police District B-3    HISP    MALE  \\\n",
       "1      Randolph  Randolph Police Dept.                     UNKNWN    MALE   \n",
       "2   Springfield  Springfield Police Dept.                  UNKNWN    MALE   \n",
       "3    Dorchester                Boston Police District B-3   WHITE  FEMALE   \n",
       "4    Dorchester                Boston Police District B-3    HISP    MALE   \n",
       "\n",
       "   Age Offense            Offense Description Searched  \n",
       "0   55   89113  CROSSWALK VIOLATION * c89 §11        N  \n",
       "1   47   89113  CROSSWALK VIOLATION * c89 §11        N  \n",
       "2   37   89113  CROSSWALK VIOLATION * c89 §11        N  \n",
       "3   29   89113  CROSSWALK VIOLATION * c89 §11        N  \n",
       "4   49   89113  CROSSWALK VIOLATION * c89 §11        N  "
      ]
     },
     "execution_count": 17,
     "metadata": {},
     "output_type": "execute_result"
    }
   ],
   "source": [
    "df['Year 2020'].head()"
   ]
  },
  {
   "cell_type": "code",
   "execution_count": 63,
   "metadata": {},
   "outputs": [
    {
     "ename": "IndexError",
     "evalue": "index 0 is out of bounds for axis 0 with size 0",
     "output_type": "error",
     "traceback": [
      "\u001b[1;31m---------------------------------------------------------------------------\u001b[0m",
      "\u001b[1;31mIndexError\u001b[0m                                Traceback (most recent call last)",
      "Cell \u001b[1;32mIn[63], line 4\u001b[0m\n\u001b[0;32m      2\u001b[0m \u001b[39mfor\u001b[39;00m town \u001b[39min\u001b[39;00m df[\u001b[39m'\u001b[39m\u001b[39mYear 2020\u001b[39m\u001b[39m'\u001b[39m][\u001b[39m'\u001b[39m\u001b[39mIssuing Agency\u001b[39m\u001b[39m'\u001b[39m]:\n\u001b[0;32m      3\u001b[0m     short_name \u001b[39m=\u001b[39m town\u001b[39m.\u001b[39mpartition(\u001b[39m\"\u001b[39m\u001b[39mPolice\u001b[39m\u001b[39m\"\u001b[39m)[\u001b[39m0\u001b[39m]\n\u001b[1;32m----> 4\u001b[0m     code \u001b[39m=\u001b[39m df[\u001b[39m'\u001b[39;49m\u001b[39mFIPS\u001b[39;49m\u001b[39m'\u001b[39;49m]\u001b[39m.\u001b[39;49mloc[df[\u001b[39m'\u001b[39;49m\u001b[39mFIPS\u001b[39;49m\u001b[39m'\u001b[39;49m][\u001b[39m'\u001b[39;49m\u001b[39mName\u001b[39;49m\u001b[39m'\u001b[39;49m]\u001b[39m.\u001b[39;49mstr\u001b[39m.\u001b[39;49mcontains(short_name, case\u001b[39m=\u001b[39;49m\u001b[39mFalse\u001b[39;49;00m)][\u001b[39m'\u001b[39;49m\u001b[39mPlace\u001b[39;49m\u001b[39m'\u001b[39;49m]\u001b[39m.\u001b[39;49mvalues[\u001b[39m0\u001b[39;49m]\n\u001b[0;32m      5\u001b[0m     fips\u001b[39m.\u001b[39mappend(code)\n\u001b[0;32m      7\u001b[0m \u001b[39m# df['Year 2020']['FIPS'] = fips\u001b[39;00m\n",
      "\u001b[1;31mIndexError\u001b[0m: index 0 is out of bounds for axis 0 with size 0"
     ]
    }
   ],
   "source": [
    "fips = []\n",
    "for town in df['Year 2020']['Issuing Agency']:\n",
    "    short_name = town.partition(\"Police\")[0]\n",
    "    code = df['FIPS'].loc[df['FIPS']['Name'].str.contains(short_name, case=False)]['Place'].values[0]\n",
    "    fips.append(code)\n",
    "\n",
    "# df['Year 2020']['FIPS'] = fips"
   ]
  },
  {
   "cell_type": "code",
   "execution_count": 62,
   "metadata": {},
   "outputs": [
    {
     "data": {
      "text/plain": [
       "[7000, 55955, 67000, 7000, 7000, 23000, 44105, 78972, 7000, 30945]"
      ]
     },
     "execution_count": 62,
     "metadata": {},
     "output_type": "execute_result"
    }
   ],
   "source": [
    "fips"
   ]
  },
  {
   "cell_type": "code",
   "execution_count": 35,
   "metadata": {},
   "outputs": [
    {
     "data": {
      "text/html": [
       "<div>\n",
       "<style scoped>\n",
       "    .dataframe tbody tr th:only-of-type {\n",
       "        vertical-align: middle;\n",
       "    }\n",
       "\n",
       "    .dataframe tbody tr th {\n",
       "        vertical-align: top;\n",
       "    }\n",
       "\n",
       "    .dataframe thead th {\n",
       "        text-align: right;\n",
       "    }\n",
       "</style>\n",
       "<table border=\"1\" class=\"dataframe\">\n",
       "  <thead>\n",
       "    <tr style=\"text-align: right;\">\n",
       "      <th></th>\n",
       "      <th>Citation #</th>\n",
       "      <th>Citation Type</th>\n",
       "      <th>Event Date</th>\n",
       "      <th>Time</th>\n",
       "      <th>Mins</th>\n",
       "      <th>AM/PM</th>\n",
       "      <th>Location Name</th>\n",
       "      <th>Issuing Agency</th>\n",
       "      <th>Race</th>\n",
       "      <th>Sex</th>\n",
       "      <th>Age</th>\n",
       "      <th>Offense</th>\n",
       "      <th>Offense Description</th>\n",
       "      <th>Searched</th>\n",
       "      <th>FIPS</th>\n",
       "    </tr>\n",
       "  </thead>\n",
       "  <tbody>\n",
       "    <tr>\n",
       "      <th>0</th>\n",
       "      <td>NaN</td>\n",
       "      <td>WARN</td>\n",
       "      <td>2/26/2020 12:00:00 AM</td>\n",
       "      <td>NaN</td>\n",
       "      <td>NaN</td>\n",
       "      <td>NaN</td>\n",
       "      <td>Dorchester</td>\n",
       "      <td>Boston Police District B-3</td>\n",
       "      <td>HISP</td>\n",
       "      <td>MALE</td>\n",
       "      <td>55</td>\n",
       "      <td>89113</td>\n",
       "      <td>CROSSWALK VIOLATION * c89 §11</td>\n",
       "      <td>N</td>\n",
       "      <td>NaN</td>\n",
       "    </tr>\n",
       "    <tr>\n",
       "      <th>1</th>\n",
       "      <td>NaN</td>\n",
       "      <td>CRIM</td>\n",
       "      <td>11/7/2020 12:00:00 AM</td>\n",
       "      <td>NaN</td>\n",
       "      <td>NaN</td>\n",
       "      <td>NaN</td>\n",
       "      <td>Randolph</td>\n",
       "      <td>Randolph Police Dept.</td>\n",
       "      <td>UNKNWN</td>\n",
       "      <td>MALE</td>\n",
       "      <td>47</td>\n",
       "      <td>89113</td>\n",
       "      <td>CROSSWALK VIOLATION * c89 §11</td>\n",
       "      <td>N</td>\n",
       "      <td>NaN</td>\n",
       "    </tr>\n",
       "    <tr>\n",
       "      <th>2</th>\n",
       "      <td>NaN</td>\n",
       "      <td>CRIM</td>\n",
       "      <td>8/13/2020 12:00:00 AM</td>\n",
       "      <td>NaN</td>\n",
       "      <td>NaN</td>\n",
       "      <td>NaN</td>\n",
       "      <td>Springfield</td>\n",
       "      <td>Springfield Police Dept.</td>\n",
       "      <td>UNKNWN</td>\n",
       "      <td>MALE</td>\n",
       "      <td>37</td>\n",
       "      <td>89113</td>\n",
       "      <td>CROSSWALK VIOLATION * c89 §11</td>\n",
       "      <td>N</td>\n",
       "      <td>NaN</td>\n",
       "    </tr>\n",
       "    <tr>\n",
       "      <th>3</th>\n",
       "      <td>NaN</td>\n",
       "      <td>WARN</td>\n",
       "      <td>2/25/2020 12:00:00 AM</td>\n",
       "      <td>9.0</td>\n",
       "      <td>22.0</td>\n",
       "      <td>AM</td>\n",
       "      <td>Dorchester</td>\n",
       "      <td>Boston Police District B-3</td>\n",
       "      <td>WHITE</td>\n",
       "      <td>FEMALE</td>\n",
       "      <td>29</td>\n",
       "      <td>89113</td>\n",
       "      <td>CROSSWALK VIOLATION * c89 §11</td>\n",
       "      <td>N</td>\n",
       "      <td>NaN</td>\n",
       "    </tr>\n",
       "    <tr>\n",
       "      <th>4</th>\n",
       "      <td>NaN</td>\n",
       "      <td>WARN</td>\n",
       "      <td>2/25/2020 12:00:00 AM</td>\n",
       "      <td>10.0</td>\n",
       "      <td>40.0</td>\n",
       "      <td>AM</td>\n",
       "      <td>Dorchester</td>\n",
       "      <td>Boston Police District B-3</td>\n",
       "      <td>HISP</td>\n",
       "      <td>MALE</td>\n",
       "      <td>49</td>\n",
       "      <td>89113</td>\n",
       "      <td>CROSSWALK VIOLATION * c89 §11</td>\n",
       "      <td>N</td>\n",
       "      <td>NaN</td>\n",
       "    </tr>\n",
       "  </tbody>\n",
       "</table>\n",
       "</div>"
      ],
      "text/plain": [
       "  Citation # Citation Type             Event Date  Time  Mins AM/PM   \n",
       "0        NaN          WARN  2/26/2020 12:00:00 AM   NaN   NaN   NaN  \\\n",
       "1        NaN          CRIM  11/7/2020 12:00:00 AM   NaN   NaN   NaN   \n",
       "2        NaN          CRIM  8/13/2020 12:00:00 AM   NaN   NaN   NaN   \n",
       "3        NaN          WARN  2/25/2020 12:00:00 AM   9.0  22.0    AM   \n",
       "4        NaN          WARN  2/25/2020 12:00:00 AM  10.0  40.0    AM   \n",
       "\n",
       "  Location Name                            Issuing Agency    Race     Sex   \n",
       "0    Dorchester                Boston Police District B-3    HISP    MALE  \\\n",
       "1      Randolph  Randolph Police Dept.                     UNKNWN    MALE   \n",
       "2   Springfield  Springfield Police Dept.                  UNKNWN    MALE   \n",
       "3    Dorchester                Boston Police District B-3   WHITE  FEMALE   \n",
       "4    Dorchester                Boston Police District B-3    HISP    MALE   \n",
       "\n",
       "   Age Offense            Offense Description Searched  FIPS  \n",
       "0   55   89113  CROSSWALK VIOLATION * c89 §11        N   NaN  \n",
       "1   47   89113  CROSSWALK VIOLATION * c89 §11        N   NaN  \n",
       "2   37   89113  CROSSWALK VIOLATION * c89 §11        N   NaN  \n",
       "3   29   89113  CROSSWALK VIOLATION * c89 §11        N   NaN  \n",
       "4   49   89113  CROSSWALK VIOLATION * c89 §11        N   NaN  "
      ]
     },
     "execution_count": 35,
     "metadata": {},
     "output_type": "execute_result"
    }
   ],
   "source": [
    "df['Year 2020'].head()"
   ]
  },
  {
   "cell_type": "code",
   "execution_count": 48,
   "metadata": {},
   "outputs": [
    {
     "data": {
      "text/plain": [
       "array([7000], dtype=int64)"
      ]
     },
     "execution_count": 48,
     "metadata": {},
     "output_type": "execute_result"
    }
   ],
   "source": [
    "place = df['Year 2020']['Issuing Agency'][0].partition(\"Police\")[0]\n",
    "df['FIPS'].loc[df['FIPS']['Name'].str.contains(place, case=False)]['Place'].values"
   ]
  },
  {
   "cell_type": "code",
   "execution_count": null,
   "metadata": {},
   "outputs": [],
   "source": []
  }
 ],
 "metadata": {
  "kernelspec": {
   "display_name": "Python 3",
   "language": "python",
   "name": "python3"
  },
  "language_info": {
   "codemirror_mode": {
    "name": "ipython",
    "version": 3
   },
   "file_extension": ".py",
   "mimetype": "text/x-python",
   "name": "python",
   "nbconvert_exporter": "python",
   "pygments_lexer": "ipython3",
   "version": "3.11.1"
  },
  "orig_nbformat": 4
 },
 "nbformat": 4,
 "nbformat_minor": 2
}
